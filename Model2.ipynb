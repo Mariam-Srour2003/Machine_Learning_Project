{
  "nbformat": 4,
  "nbformat_minor": 0,
  "metadata": {
    "colab": {
      "provenance": []
    },
    "kernelspec": {
      "name": "python3",
      "display_name": "Python 3"
    },
    "language_info": {
      "name": "python"
    }
  },
  "cells": [
    {
      "cell_type": "code",
      "execution_count": 5,
      "metadata": {
        "colab": {
          "base_uri": "https://localhost:8080/"
        },
        "id": "16_i8mViHAAW",
        "outputId": "cd578233-7b65-4ccc-dd73-b4ab1349713e"
      },
      "outputs": [
        {
          "output_type": "stream",
          "name": "stderr",
          "text": [
            "[nltk_data] Downloading package stopwords to /root/nltk_data...\n",
            "[nltk_data]   Package stopwords is already up-to-date!\n"
          ]
        },
        {
          "output_type": "stream",
          "name": "stdout",
          "text": [
            "Accuracy: 69.70%\n",
            "Enter a description: change the current path\n",
            "\n",
            "Top 5 Predictions:\n",
            "Command Name: PATH, Probability: 0.00615, Description: Display or set a search path for executable files •\n",
            "Command Name: PUSHD, Probability: 0.00604, Description: Save and then change the current directory •\n",
            "Command Name: CHDIR, Probability: 0.00600, Description: Change Directory - move to a specific Folder •\n",
            "Command Name: CD, Probability: 0.00593, Description: Change Directory  move to a specific Folder\n",
            "Command Name: TLIST, Probability: 0.00582, Description: Task list with full path\n"
          ]
        }
      ],
      "source": [
        "import pandas as pd\n",
        "from sklearn.feature_extraction.text import TfidfVectorizer\n",
        "from sklearn.model_selection import train_test_split\n",
        "from sklearn.naive_bayes import MultinomialNB\n",
        "from sklearn.metrics import accuracy_score\n",
        "import numpy as np\n",
        "import joblib\n",
        "import re\n",
        "import nltk\n",
        "from nltk.corpus import stopwords\n",
        "\n",
        "# Download the stopwords resource\n",
        "nltk.download('stopwords')\n",
        "\n",
        "# Load the data from the CSV file\n",
        "data = pd.read_csv('cmd_commands.csv')\n",
        "\n",
        "train_text_columns = ['description1', 'description1', 'description3', 'description4', 'description5', 'description6']\n",
        "test_text_column = 'description2'\n",
        "label_column = 'name'\n",
        "\n",
        "# Combine all training text columns into a single text column for training\n",
        "data['train_text'] = data[train_text_columns].astype(str).apply(lambda x: ' '.join(x), axis=1)\n",
        "\n",
        "# Combine the test text column into a single text column for testing\n",
        "data['test_text'] = data[test_text_column].astype(str)\n",
        "\n",
        "# Remove special characters and convert to lowercase\n",
        "data['train_text'] = data['train_text'].apply(lambda x: re.sub(r'[^a-zA-Z\\s]', '', x.lower()))\n",
        "\n",
        "# Remove stopwords\n",
        "stop_words = set(stopwords.words('english'))\n",
        "additional_stop_words = ['a', 'an', 'and', 'for', 'in', 'is', 'it', 'of', 'on', 'or', 'the', 'to', 'with',\n",
        "                          'seamless', 'comprehensive', 'facilitating', 'enhance', 'empower', 'efficient', 'streamlined']\n",
        "stop_words.update(additional_stop_words)\n",
        "\n",
        "data['train_text'] = data['train_text'].apply(lambda x: ' '.join(word for word in x.split() if word not in stop_words))\n",
        "data['test_text'] = data['test_text'].apply(lambda x: ' '.join(word for word in x.split() if word not in stop_words))\n",
        "\n",
        "# Drop rows with missing values in the training text column\n",
        "data = data.dropna(subset=['train_text'])\n",
        "\n",
        "# Split the data into training and testing sets\n",
        "train_data, test_data, train_labels, test_labels = train_test_split(data['train_text'], data[label_column], test_size=0.2, random_state=42)\n",
        "\n",
        "# Vectorize the text data using TfidfVectorizer\n",
        "vectorizer = TfidfVectorizer()\n",
        "X_train = vectorizer.fit_transform(train_data)\n",
        "X_test = vectorizer.transform(test_data)\n",
        "\n",
        "# Train a Multinomial Naive Bayes classifier\n",
        "classifier = MultinomialNB()\n",
        "classifier.fit(X_train, train_labels)\n",
        "\n",
        "# Vectorize the test data\n",
        "X_test_final = vectorizer.transform(data['test_text'])\n",
        "\n",
        "# Make predictions on the test set\n",
        "predictions = classifier.predict(X_test_final)\n",
        "\n",
        "# Calculate accuracy on the entire dataset\n",
        "accuracy = accuracy_score(data[label_column], predictions)\n",
        "print(f\"Accuracy: {accuracy * 100:.2f}%\")\n",
        "\n",
        "# Save the trained model for future use\n",
        "joblib.dump((vectorizer, classifier), 'text_classifier_model.joblib')\n",
        "\n",
        "# Take user input and classify\n",
        "user_input = input(\"Enter a description: \")\n",
        "user_input = re.sub(r'[^a-zA-Z\\s]', '', user_input.lower())\n",
        "user_input = ' '.join(word for word in user_input.split() if word not in stop_words)\n",
        "user_input_vectorized = vectorizer.transform([user_input])\n",
        "\n",
        "# Predict the first 5 labels with probabilities for the given description\n",
        "top_predictions = classifier.predict_proba(user_input_vectorized)\n",
        "top_indices = np.argsort(top_predictions[0])[::-1][:5]\n",
        "\n",
        "print(\"\\nTop 5 Predictions:\")\n",
        "for i in top_indices:\n",
        "    predicted_label = classifier.classes_[i]\n",
        "    probability = top_predictions[0][i]\n",
        "\n",
        "    # Find all occurrences of the predicted label in the dataset\n",
        "    label_indices = data[data[label_column] == predicted_label].index\n",
        "\n",
        "    # Print descriptions for all occurrences\n",
        "    for description_index in label_indices:\n",
        "        print(f\"Command Name: {predicted_label}, Probability: {probability:.5f}, Description: {data.iloc[description_index]['description1']}\")\n"
      ]
    }
  ]
}