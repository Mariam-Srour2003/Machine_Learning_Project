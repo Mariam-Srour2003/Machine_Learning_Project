{
  "nbformat": 4,
  "nbformat_minor": 0,
  "metadata": {
    "colab": {
      "provenance": []
    },
    "kernelspec": {
      "name": "python3",
      "display_name": "Python 3"
    },
    "language_info": {
      "name": "python"
    }
  },
  "cells": [
    {
      "cell_type": "code",
      "execution_count": 3,
      "metadata": {
        "colab": {
          "base_uri": "https://localhost:8080/"
        },
        "id": "gpck6eIWveSA",
        "outputId": "875c4fdb-69c6-48c6-b8a1-b4446bddc181"
      },
      "outputs": [
        {
          "output_type": "stream",
          "name": "stdout",
          "text": [
            "Accuracy: 70.08%\n",
            "Enter a description: chane the current path\n",
            "\n",
            "Top 5 Predictions:\n",
            "Command Name: BREAK, Probability: 0.02149, Description: Do nothing, successfully •\n",
            "Command Name: PERMS, Probability: 0.01885, Description: Show permissions for a user\n",
            "Command Name: ScriptRunner, Probability: 0.01884, Description: Run one or more scripts in sequence\n",
            "Command Name: CHANGEPK, Probability: 0.01884, Description: Upgrade device Edition/Product Key\n",
            "Command Name: QAppSrv, Probability: 0.01883, Description: Query TermServer List all servers (TS/Remote Desktop)\n"
          ]
        }
      ],
      "source": [
        "import pandas as pd\n",
        "from sklearn.feature_extraction.text import TfidfVectorizer\n",
        "from sklearn.model_selection import train_test_split\n",
        "from sklearn.naive_bayes import MultinomialNB\n",
        "from sklearn.metrics import accuracy_score\n",
        "import numpy as np\n",
        "\n",
        "# Load the data from the CSV file\n",
        "data = pd.read_csv('cmd_commands.csv')  # Replace 'cmd_commandssss.csv' with the actual file name\n",
        "\n",
        "# Replace with the actual column names from your dataset\n",
        "train_text_columns = ['description1', 'description1', 'description3', 'description4', 'description5', 'description6']\n",
        "test_text_column = 'description2'\n",
        "label_column = 'name'  # Replace with the actual label column name\n",
        "\n",
        "# Combine all training text columns into a single text column for training\n",
        "data['train_text'] = data[train_text_columns].astype(str).apply(lambda x: ' '.join(x), axis=1)\n",
        "\n",
        "# Combine the test text column into a single text column for testing\n",
        "data['test_text'] = data[test_text_column].astype(str)\n",
        "\n",
        "# Remove ignored words for training and testing\n",
        "stop_words = ['a', 'an', 'and', 'for', 'in', 'is', 'it', 'of', 'on', 'or', 'the', 'to', 'with',\n",
        "              'seamless', 'comprehensive', 'facilitating']\n",
        "\n",
        "data['train_text'] = data['train_text'].apply(lambda x: ' '.join([word for word in x.split() if word.lower() not in stop_words]))\n",
        "data['test_text'] = data['test_text'].apply(lambda x: ' '.join([word for word in x.split() if word.lower() not in stop_words]))\n",
        "\n",
        "# Drop rows with missing values in the training text column\n",
        "data = data.dropna(subset=['train_text'])\n",
        "\n",
        "# Split the data into training and testing sets\n",
        "train_data, test_data, train_labels, test_labels = train_test_split(data['train_text'], data[label_column], test_size=0.2, random_state=42)\n",
        "\n",
        "# Vectorize the text data using TfidfVectorizer\n",
        "vectorizer = TfidfVectorizer()\n",
        "X_train = vectorizer.fit_transform(train_data)\n",
        "X_test = vectorizer.transform(test_data)\n",
        "\n",
        "# Train a Multinomial Naive Bayes classifier\n",
        "classifier = MultinomialNB()\n",
        "classifier.fit(X_train, train_labels)\n",
        "\n",
        "# Vectorize the test data\n",
        "X_test_final = vectorizer.transform(data['test_text'])\n",
        "\n",
        "# Make predictions on the test set\n",
        "predictions = classifier.predict(X_test_final)\n",
        "\n",
        "# Calculate accuracy on the entire dataset\n",
        "accuracy = accuracy_score(data[label_column], predictions)\n",
        "print(f\"Accuracy: {accuracy * 100:.2f}%\")\n",
        "\n",
        "# Further train the model on the test set\n",
        "classifier.fit(X_test, test_labels)\n",
        "\n",
        "# Take user input and classify\n",
        "user_input = input(\"Enter a description: \")\n",
        "user_input = ' '.join([word for word in user_input.split() if word.lower() not in stop_words])\n",
        "user_input_vectorized = vectorizer.transform([user_input])\n",
        "\n",
        "# Predict the first 5 labels with probabilities for the given description\n",
        "top_predictions = classifier.predict_proba(user_input_vectorized)\n",
        "top_indices = np.argsort(top_predictions[0])[::-1][:5]\n",
        "\n",
        "print(\"\\nTop 5 Predictions:\")\n",
        "for i in top_indices:\n",
        "    predicted_label = classifier.classes_[i]\n",
        "    probability = top_predictions[0][i]\n",
        "\n",
        "    # Find all occurrences of the predicted label in the dataset\n",
        "    label_indices = data[data[label_column] == predicted_label].index\n",
        "\n",
        "    # Print descriptions for all occurrences\n",
        "    for description_index in label_indices:\n",
        "        print(f\"Command Name: {predicted_label}, Probability: {probability:.5f}, Description: {data.iloc[description_index]['description1']}\")"
      ]
    }
  ]
}